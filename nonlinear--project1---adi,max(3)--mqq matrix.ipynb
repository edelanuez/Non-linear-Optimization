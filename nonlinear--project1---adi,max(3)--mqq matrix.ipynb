{
 "cells": [
  {
   "cell_type": "code",
   "execution_count": 1,
   "id": "3ce9d4bb",
   "metadata": {},
   "outputs": [],
   "source": [
    "import cvxpy as cp \n",
    "import numpy as np\n",
    "import pandas as pd\n",
    "import os\n"
   ]
  },
  {
   "cell_type": "code",
   "execution_count": 2,
   "id": "54a8cd82",
   "metadata": {},
   "outputs": [],
   "source": [
    "#reading in files\n",
    "model = pd.read_csv('model.csv')\n",
    "target1 = pd.read_csv('target1.csv')\n",
    "target2 = pd.read_csv('target2.csv')\n",
    "target3 = pd.read_csv('target3.csv')\n"
   ]
  },
  {
   "cell_type": "code",
   "execution_count": 3,
   "id": "6a8f908c",
   "metadata": {},
   "outputs": [],
   "source": [
    "#making model c_dts just to make sure\n",
    "model['constant'] = model['oas'] * model['oasd']* model['weight']\n",
    "model.dropna(subset=['constant'], inplace=True)\n",
    "#print(model['constant'])"
   ]
  },
  {
   "cell_type": "code",
   "execution_count": 4,
   "id": "cb3bb0aa",
   "metadata": {},
   "outputs": [],
   "source": [
    "##making target1 d_t vector\n",
    "target1['d_t'] = target1['oas'] * target1['oasd']\n",
    "target1.dropna(subset=['d_t'], inplace=True)\n",
    "#print(target1['d_t'])"
   ]
  },
  {
   "cell_type": "code",
   "execution_count": 5,
   "id": "6fb59e7d",
   "metadata": {},
   "outputs": [],
   "source": [
    "target1.dropna(subset=['q_AAA'],inplace=True)\n",
    "model.dropna(subset=['q_AAA'],inplace=True)"
   ]
  },
  {
   "cell_type": "code",
   "execution_count": 6,
   "id": "c4833039",
   "metadata": {},
   "outputs": [],
   "source": [
    "###pandas into numpy array\n",
    "constant_array = model['constant'].values\n",
    "d_t_array = target1['d_t'].values\n",
    "MQ_M11_array=model['q_AAA'].values\n",
    "MQ_T11_array=target1['q_AAA'].values"
   ]
  },
  {
   "cell_type": "code",
   "execution_count": 7,
   "id": "dcdf32c5",
   "metadata": {},
   "outputs": [
    {
     "data": {
      "text/plain": [
       "(558,)"
      ]
     },
     "execution_count": 7,
     "metadata": {},
     "output_type": "execute_result"
    }
   ],
   "source": [
    "#tranposed array\n",
    "transposed_dt = np.transpose(d_t_array)\n",
    "transposed_dt.shape"
   ]
  },
  {
   "cell_type": "code",
   "execution_count": 30,
   "id": "b81e9fa0",
   "metadata": {},
   "outputs": [
    {
     "name": "stdout",
     "output_type": "stream",
     "text": [
      "===============================================================================\n",
      "                                     CVXPY                                     \n",
      "                                     v1.3.0                                    \n",
      "===============================================================================\n",
      "(CVXPY) Apr 20 02:25:06 PM: Your problem has 558 variables, 2 constraints, and 0 parameters.\n",
      "(CVXPY) Apr 20 02:25:06 PM: It is compliant with the following grammars: DCP, DQCP\n",
      "(CVXPY) Apr 20 02:25:06 PM: (If you need to solve this problem multiple times, but with different data, consider using parameters.)\n",
      "(CVXPY) Apr 20 02:25:06 PM: CVXPY will first compile your problem; then, it will invoke a numerical solver to obtain a solution.\n",
      "-------------------------------------------------------------------------------\n",
      "                                  Compilation                                  \n",
      "-------------------------------------------------------------------------------\n",
      "(CVXPY) Apr 20 02:25:06 PM: Compiling problem (target solver=SCS).\n",
      "(CVXPY) Apr 20 02:25:06 PM: Reduction chain: Dcp2Cone -> CvxAttr2Constr -> ConeMatrixStuffing -> SCS\n",
      "(CVXPY) Apr 20 02:25:06 PM: Applying reduction Dcp2Cone\n",
      "(CVXPY) Apr 20 02:25:06 PM: Applying reduction CvxAttr2Constr\n",
      "(CVXPY) Apr 20 02:25:06 PM: Applying reduction ConeMatrixStuffing\n",
      "(CVXPY) Apr 20 02:25:06 PM: Applying reduction SCS\n",
      "(CVXPY) Apr 20 02:25:06 PM: Finished problem compilation (took 1.665e-02 seconds).\n",
      "-------------------------------------------------------------------------------\n",
      "                                Numerical solver                               \n",
      "-------------------------------------------------------------------------------\n",
      "(CVXPY) Apr 20 02:25:06 PM: Invoking solver SCS  to obtain a solution.\n",
      "------------------------------------------------------------------\n",
      "\t       SCS v3.2.0 - Splitting Conic Solver\n",
      "\t(c) Brendan O'Donoghue, Stanford University, 2012\n",
      "------------------------------------------------------------------\n",
      "problem:  variables n: 559, constraints m: 561\n",
      "cones: \t  z: primal zero / dual free vars: 1\n",
      "\t  l: linear vars: 560\n",
      "settings: eps_abs: 1.0e-05, eps_rel: 1.0e-05, eps_infeas: 1.0e-07\n",
      "\t  alpha: 1.50, scale: 1.00e-01, adaptive_scale: 1\n",
      "\t  max_iters: 100000, normalize: 1, rho_x: 1.00e-06\n",
      "\t  acceleration_lookback: 10, acceleration_interval: 10\n",
      "lin-sys:  sparse-direct\n",
      "\t  nnz(A): 1352, nnz(P): 0\n",
      "------------------------------------------------------------------\n",
      " iter | pri res | dua res |   gap   |   obj   |  scale  | time (s)\n",
      "------------------------------------------------------------------\n",
      "     0| 1.30e+02  1.00e+00  1.10e+02 -5.38e+01  1.00e-01  1.25e-03 \n",
      "    50| 2.76e-09  3.01e-15  7.76e-11 -3.89e-11  1.00e-01  2.46e-03 \n",
      "------------------------------------------------------------------\n",
      "status:  solved\n",
      "timings: total: 4.33e-03s = setup: 1.86e-03s + solve: 2.47e-03s\n",
      "\t lin-sys: 8.14e-04s, cones: 6.23e-05s, accel: 2.64e-05s\n",
      "------------------------------------------------------------------\n",
      "objective = -0.000000\n",
      "------------------------------------------------------------------\n",
      "-------------------------------------------------------------------------------\n",
      "                                    Summary                                    \n",
      "-------------------------------------------------------------------------------\n",
      "(CVXPY) Apr 20 02:25:06 PM: Problem status: optimal\n",
      "(CVXPY) Apr 20 02:25:06 PM: Optimal value: 2.633e-11\n",
      "(CVXPY) Apr 20 02:25:06 PM: Compilation took 1.665e-02 seconds\n",
      "(CVXPY) Apr 20 02:25:06 PM: Solver (including time spent in interface) took 4.788e-03 seconds\n",
      "Optimal value: 2.6325608359911712e-11\n"
     ]
    }
   ],
   "source": [
    "w = cp.Variable(558)\n",
    "obj = cp.Minimize(cp.norm(constant_array @ MQ_M11_array - cp.matmul(MQ_T11_array, w.T), 2))\n",
    "constraints = [w <= 0.3, cp.sum(w) == 1]\n",
    "problem = cp.Problem(obj, constraints)\n",
    "result = problem.solve(verbose=True,solver=cp.SCS) ####scs is a first-order solver that uses an iterative splitting technique when just solving the whole thing is too expensive\n",
    "#print(\"Optimal value:\", result)\n",
    "#print(\"Optimal weights:\", w.value.round(decimals=2))\n",
    "#print(\"Optimal value\", problem.solve)\n",
    "#print(w.value.round(decimals=2))\n",
    "#print(\"Optimal value\", problem.solve(verbose=True))\n"
   ]
  },
  {
   "cell_type": "code",
   "execution_count": 9,
   "id": "6a1c2bbc",
   "metadata": {},
   "outputs": [],
   "source": [
    "####SECOND COLUMN\n",
    "target1.dropna(subset=['q_AA'],inplace=True)\n",
    "model.dropna(subset=['q_AA'],inplace=True)"
   ]
  },
  {
   "cell_type": "code",
   "execution_count": 10,
   "id": "22ce20c3",
   "metadata": {},
   "outputs": [],
   "source": [
    "###pandas into numpy array\n",
    "constant_array = model['constant'].values\n",
    "d_t_array = target1['d_t'].values\n",
    "MQ_M12_array=model['q_AA'].values\n",
    "MQ_T12_array=target1['q_AA'].values"
   ]
  },
  {
   "cell_type": "code",
   "execution_count": 11,
   "id": "abe84579",
   "metadata": {},
   "outputs": [
    {
     "data": {
      "text/plain": [
       "(558,)"
      ]
     },
     "execution_count": 11,
     "metadata": {},
     "output_type": "execute_result"
    }
   ],
   "source": [
    "#tranposed array\n",
    "transposed_dt = np.transpose(d_t_array)\n",
    "transposed_dt.shape"
   ]
  },
  {
   "cell_type": "code",
   "execution_count": 12,
   "id": "8deb96eb",
   "metadata": {},
   "outputs": [
    {
     "name": "stdout",
     "output_type": "stream",
     "text": [
      "===============================================================================\n",
      "                                     CVXPY                                     \n",
      "                                     v1.3.0                                    \n",
      "===============================================================================\n",
      "(CVXPY) Apr 20 09:25:09 AM: Your problem has 558 variables, 2 constraints, and 0 parameters.\n",
      "(CVXPY) Apr 20 09:25:09 AM: It is compliant with the following grammars: DCP, DQCP\n",
      "(CVXPY) Apr 20 09:25:09 AM: (If you need to solve this problem multiple times, but with different data, consider using parameters.)\n",
      "(CVXPY) Apr 20 09:25:09 AM: CVXPY will first compile your problem; then, it will invoke a numerical solver to obtain a solution.\n",
      "-------------------------------------------------------------------------------\n",
      "                                  Compilation                                  \n",
      "-------------------------------------------------------------------------------\n",
      "(CVXPY) Apr 20 09:25:09 AM: Compiling problem (target solver=SCS).\n",
      "(CVXPY) Apr 20 09:25:09 AM: Reduction chain: Dcp2Cone -> CvxAttr2Constr -> ConeMatrixStuffing -> SCS\n",
      "(CVXPY) Apr 20 09:25:09 AM: Applying reduction Dcp2Cone\n",
      "(CVXPY) Apr 20 09:25:09 AM: Applying reduction CvxAttr2Constr\n",
      "(CVXPY) Apr 20 09:25:09 AM: Applying reduction ConeMatrixStuffing\n",
      "(CVXPY) Apr 20 09:25:09 AM: Applying reduction SCS\n",
      "(CVXPY) Apr 20 09:25:09 AM: Finished problem compilation (took 2.106e-02 seconds).\n",
      "-------------------------------------------------------------------------------\n",
      "                                Numerical solver                               \n",
      "-------------------------------------------------------------------------------\n",
      "(CVXPY) Apr 20 09:25:09 AM: Invoking solver SCS  to obtain a solution.\n",
      "------------------------------------------------------------------\n",
      "\t       SCS v3.2.0 - Splitting Conic Solver\n",
      "\t(c) Brendan O'Donoghue, Stanford University, 2012\n",
      "------------------------------------------------------------------\n",
      "problem:  variables n: 559, constraints m: 561\n",
      "cones: \t  z: primal zero / dual free vars: 1\n",
      "\t  l: linear vars: 560\n",
      "settings: eps_abs: 1.0e-05, eps_rel: 1.0e-05, eps_infeas: 1.0e-07\n",
      "\t  alpha: 1.50, scale: 1.00e-01, adaptive_scale: 1\n",
      "\t  max_iters: 100000, normalize: 1, rho_x: 1.00e-06\n",
      "\t  acceleration_lookback: 10, acceleration_interval: 10\n",
      "lin-sys:  sparse-direct\n",
      "\t  nnz(A): 1166, nnz(P): 0\n",
      "------------------------------------------------------------------\n",
      " iter | pri res | dua res |   gap   |   obj   |  scale  | time (s)\n",
      "------------------------------------------------------------------\n",
      "     0| 6.81e+01  1.00e+00  5.31e+01 -2.34e+01  1.00e-01  3.66e-03 \n",
      "   125| 1.26e-08  2.12e-09  1.25e-07  1.53e+01  1.00e-01  8.05e-03 \n",
      "------------------------------------------------------------------\n",
      "status:  solved\n",
      "timings: total: 1.08e-02s = setup: 2.76e-03s + solve: 8.07e-03s\n",
      "\t lin-sys: 2.44e-03s, cones: 2.18e-04s, accel: 7.95e-04s\n",
      "------------------------------------------------------------------\n",
      "objective = 15.312257\n",
      "------------------------------------------------------------------\n",
      "-------------------------------------------------------------------------------\n",
      "                                    Summary                                    \n",
      "-------------------------------------------------------------------------------\n",
      "(CVXPY) Apr 20 09:25:09 AM: Problem status: optimal\n",
      "(CVXPY) Apr 20 09:25:09 AM: Optimal value: 1.531e+01\n",
      "(CVXPY) Apr 20 09:25:09 AM: Compilation took 2.106e-02 seconds\n",
      "(CVXPY) Apr 20 09:25:09 AM: Solver (including time spent in interface) took 1.244e-02 seconds\n"
     ]
    }
   ],
   "source": [
    "w = cp.Variable(558)\n",
    "obj = cp.Minimize(cp.norm(constant_array @ MQ_M12_array - cp.matmul(MQ_T12_array, w.T), 2))\n",
    "constraints = [w <= 0.3, cp.sum(w) == 1]\n",
    "problem = cp.Problem(obj, constraints)\n",
    "result = problem.solve(verbose=True,solver=cp.SCS) ####scs is a first-order solver that uses an iterative splitting technique when just solving the whole thing is too expensive\n",
    "#print(\"Optimal value:\", result)\n",
    "#print(\"Optimal weights:\", w.value.round(decimals=2))\n",
    "#print(\"Optimal value\", problem.solve)\n",
    "#print(w.value.round(decimals=2))\n",
    "#print(\"Optimal value\", problem.solve(verbose=True))\n"
   ]
  },
  {
   "cell_type": "code",
   "execution_count": 13,
   "id": "1a431172",
   "metadata": {},
   "outputs": [],
   "source": [
    "###THIRD COLUMN\n",
    "target1.dropna(subset=['q_A'],inplace=True)\n",
    "model.dropna(subset=['q_A'],inplace=True)"
   ]
  },
  {
   "cell_type": "code",
   "execution_count": 15,
   "id": "43f6a8a2",
   "metadata": {},
   "outputs": [],
   "source": [
    "###pandas into numpy array\n",
    "constant_array = model['constant'].values\n",
    "d_t_array = target1['d_t'].values\n",
    "MQ_M13_array=model['q_A'].values\n",
    "MQ_T13_array=target1['q_A'].values"
   ]
  },
  {
   "cell_type": "code",
   "execution_count": 16,
   "id": "009088ce",
   "metadata": {},
   "outputs": [
    {
     "data": {
      "text/plain": [
       "(558,)"
      ]
     },
     "execution_count": 16,
     "metadata": {},
     "output_type": "execute_result"
    }
   ],
   "source": [
    "#tranposed array\n",
    "transposed_dt = np.transpose(d_t_array)\n",
    "transposed_dt.shape"
   ]
  },
  {
   "cell_type": "code",
   "execution_count": 17,
   "id": "dc7e52e1",
   "metadata": {},
   "outputs": [
    {
     "name": "stdout",
     "output_type": "stream",
     "text": [
      "===============================================================================\n",
      "                                     CVXPY                                     \n",
      "                                     v1.3.0                                    \n",
      "===============================================================================\n",
      "(CVXPY) Apr 20 09:26:38 AM: Your problem has 558 variables, 2 constraints, and 0 parameters.\n",
      "(CVXPY) Apr 20 09:26:38 AM: It is compliant with the following grammars: DCP, DQCP\n",
      "(CVXPY) Apr 20 09:26:38 AM: (If you need to solve this problem multiple times, but with different data, consider using parameters.)\n",
      "(CVXPY) Apr 20 09:26:38 AM: CVXPY will first compile your problem; then, it will invoke a numerical solver to obtain a solution.\n",
      "-------------------------------------------------------------------------------\n",
      "                                  Compilation                                  \n",
      "-------------------------------------------------------------------------------\n",
      "(CVXPY) Apr 20 09:26:38 AM: Compiling problem (target solver=SCS).\n",
      "(CVXPY) Apr 20 09:26:38 AM: Reduction chain: Dcp2Cone -> CvxAttr2Constr -> ConeMatrixStuffing -> SCS\n",
      "(CVXPY) Apr 20 09:26:38 AM: Applying reduction Dcp2Cone\n",
      "(CVXPY) Apr 20 09:26:38 AM: Applying reduction CvxAttr2Constr\n",
      "(CVXPY) Apr 20 09:26:38 AM: Applying reduction ConeMatrixStuffing\n",
      "(CVXPY) Apr 20 09:26:38 AM: Applying reduction SCS\n",
      "(CVXPY) Apr 20 09:26:38 AM: Finished problem compilation (took 2.372e-02 seconds).\n",
      "-------------------------------------------------------------------------------\n",
      "                                Numerical solver                               \n",
      "-------------------------------------------------------------------------------\n",
      "(CVXPY) Apr 20 09:26:38 AM: Invoking solver SCS  to obtain a solution.\n",
      "------------------------------------------------------------------\n",
      "\t       SCS v3.2.0 - Splitting Conic Solver\n",
      "\t(c) Brendan O'Donoghue, Stanford University, 2012\n",
      "------------------------------------------------------------------\n",
      "problem:  variables n: 559, constraints m: 561\n",
      "cones: \t  z: primal zero / dual free vars: 1\n",
      "\t  l: linear vars: 560\n",
      "settings: eps_abs: 1.0e-05, eps_rel: 1.0e-05, eps_infeas: 1.0e-07\n",
      "\t  alpha: 1.50, scale: 1.00e-01, adaptive_scale: 1\n",
      "\t  max_iters: 100000, normalize: 1, rho_x: 1.00e-06\n",
      "\t  acceleration_lookback: 10, acceleration_interval: 10\n",
      "lin-sys:  sparse-direct\n",
      "\t  nnz(A): 1326, nnz(P): 0\n",
      "------------------------------------------------------------------\n",
      " iter | pri res | dua res |   gap   |   obj   |  scale  | time (s)\n",
      "------------------------------------------------------------------\n",
      "     0| 1.65e+02  1.00e+00  1.11e+02 -4.68e+01  1.00e-01  2.36e-03 \n",
      "   150| 4.71e-09  8.19e-13  1.10e-10  3.96e+01  1.00e-01  7.42e-03 \n",
      "------------------------------------------------------------------\n",
      "status:  solved\n",
      "timings: total: 9.81e-03s = setup: 2.38e-03s + solve: 7.44e-03s\n",
      "\t lin-sys: 2.64e-03s, cones: 2.45e-04s, accel: 1.01e-03s\n",
      "------------------------------------------------------------------\n",
      "objective = 39.642893\n",
      "------------------------------------------------------------------\n",
      "-------------------------------------------------------------------------------\n",
      "                                    Summary                                    \n",
      "-------------------------------------------------------------------------------\n",
      "(CVXPY) Apr 20 09:26:38 AM: Problem status: optimal\n",
      "(CVXPY) Apr 20 09:26:38 AM: Optimal value: 3.964e+01\n",
      "(CVXPY) Apr 20 09:26:38 AM: Compilation took 2.372e-02 seconds\n",
      "(CVXPY) Apr 20 09:26:38 AM: Solver (including time spent in interface) took 1.063e-02 seconds\n"
     ]
    }
   ],
   "source": [
    "w = cp.Variable(558)\n",
    "obj = cp.Minimize(cp.norm(constant_array @ MQ_M13_array - cp.matmul(MQ_T13_array, w.T), 2))\n",
    "constraints = [w <= 0.3, cp.sum(w) == 1]\n",
    "problem = cp.Problem(obj, constraints)\n",
    "result = problem.solve(verbose=True,solver=cp.SCS) ####scs is a first-order solver that uses an iterative splitting technique when just solving the whole thing is too expensive\n",
    "#print(\"Optimal value:\", result)\n",
    "#print(\"Optimal weights:\", w.value.round(decimals=2))\n",
    "#print(\"Optimal value\", problem.solve)\n",
    "#print(w.value.round(decimals=2))\n",
    "#print(\"Optimal value\", problem.solve(verbose=True))\n"
   ]
  },
  {
   "cell_type": "code",
   "execution_count": 18,
   "id": "3b0f01c6",
   "metadata": {},
   "outputs": [],
   "source": [
    "###FOURTH COLUMN\n",
    "target1.dropna(subset=['q_BBB'],inplace=True)\n",
    "model.dropna(subset=['q_BBB'],inplace=True)"
   ]
  },
  {
   "cell_type": "code",
   "execution_count": 19,
   "id": "d1d48eec",
   "metadata": {},
   "outputs": [],
   "source": [
    "###pandas into numpy array\n",
    "constant_array = model['constant'].values\n",
    "d_t_array = target1['d_t'].values\n",
    "MQ_M14_array=model['q_BBB'].values\n",
    "MQ_T14_array=target1['q_BBB'].values"
   ]
  },
  {
   "cell_type": "code",
   "execution_count": 20,
   "id": "e423b74d",
   "metadata": {},
   "outputs": [
    {
     "data": {
      "text/plain": [
       "(558,)"
      ]
     },
     "execution_count": 20,
     "metadata": {},
     "output_type": "execute_result"
    }
   ],
   "source": [
    "#tranposed array\n",
    "transposed_dt = np.transpose(d_t_array)\n",
    "transposed_dt.shape"
   ]
  },
  {
   "cell_type": "code",
   "execution_count": 21,
   "id": "8e13762a",
   "metadata": {},
   "outputs": [
    {
     "name": "stdout",
     "output_type": "stream",
     "text": [
      "===============================================================================\n",
      "                                     CVXPY                                     \n",
      "                                     v1.3.0                                    \n",
      "===============================================================================\n",
      "(CVXPY) Apr 20 09:28:01 AM: Your problem has 558 variables, 2 constraints, and 0 parameters.\n",
      "(CVXPY) Apr 20 09:28:01 AM: It is compliant with the following grammars: DCP, DQCP\n",
      "(CVXPY) Apr 20 09:28:01 AM: (If you need to solve this problem multiple times, but with different data, consider using parameters.)\n",
      "(CVXPY) Apr 20 09:28:01 AM: CVXPY will first compile your problem; then, it will invoke a numerical solver to obtain a solution.\n",
      "-------------------------------------------------------------------------------\n",
      "                                  Compilation                                  \n",
      "-------------------------------------------------------------------------------\n",
      "(CVXPY) Apr 20 09:28:01 AM: Compiling problem (target solver=SCS).\n",
      "(CVXPY) Apr 20 09:28:01 AM: Reduction chain: Dcp2Cone -> CvxAttr2Constr -> ConeMatrixStuffing -> SCS\n",
      "(CVXPY) Apr 20 09:28:01 AM: Applying reduction Dcp2Cone\n",
      "(CVXPY) Apr 20 09:28:01 AM: Applying reduction CvxAttr2Constr\n",
      "(CVXPY) Apr 20 09:28:01 AM: Applying reduction ConeMatrixStuffing\n",
      "(CVXPY) Apr 20 09:28:01 AM: Applying reduction SCS\n",
      "(CVXPY) Apr 20 09:28:01 AM: Finished problem compilation (took 1.919e-02 seconds).\n",
      "-------------------------------------------------------------------------------\n",
      "                                Numerical solver                               \n",
      "-------------------------------------------------------------------------------\n",
      "(CVXPY) Apr 20 09:28:01 AM: Invoking solver SCS  to obtain a solution.\n",
      "------------------------------------------------------------------\n",
      "\t       SCS v3.2.0 - Splitting Conic Solver\n",
      "\t(c) Brendan O'Donoghue, Stanford University, 2012\n",
      "------------------------------------------------------------------\n",
      "problem:  variables n: 559, constraints m: 561\n",
      "cones: \t  z: primal zero / dual free vars: 1\n",
      "\t  l: linear vars: 560\n",
      "settings: eps_abs: 1.0e-05, eps_rel: 1.0e-05, eps_infeas: 1.0e-07\n",
      "\t  alpha: 1.50, scale: 1.00e-01, adaptive_scale: 1\n",
      "\t  max_iters: 100000, normalize: 1, rho_x: 1.00e-06\n",
      "\t  acceleration_lookback: 10, acceleration_interval: 10\n",
      "lin-sys:  sparse-direct\n",
      "\t  nnz(A): 1726, nnz(P): 0\n",
      "------------------------------------------------------------------\n",
      " iter | pri res | dua res |   gap   |   obj   |  scale  | time (s)\n",
      "------------------------------------------------------------------\n",
      "     0| 4.13e+02  1.00e+00  2.64e+02 -4.26e+01  1.00e-01  4.54e-04 \n",
      "   125| 7.18e-08  1.32e-09  2.34e-06  1.80e+02  1.00e-01  5.74e-03 \n",
      "------------------------------------------------------------------\n",
      "status:  solved\n",
      "timings: total: 9.61e-03s = setup: 3.83e-03s + solve: 5.78e-03s\n",
      "\t lin-sys: 2.79e-03s, cones: 2.34e-04s, accel: 1.02e-03s\n",
      "------------------------------------------------------------------\n",
      "objective = 179.685301\n",
      "------------------------------------------------------------------\n",
      "-------------------------------------------------------------------------------\n",
      "                                    Summary                                    \n",
      "-------------------------------------------------------------------------------\n",
      "(CVXPY) Apr 20 09:28:01 AM: Problem status: optimal\n",
      "(CVXPY) Apr 20 09:28:01 AM: Optimal value: 1.797e+02\n",
      "(CVXPY) Apr 20 09:28:01 AM: Compilation took 1.919e-02 seconds\n",
      "(CVXPY) Apr 20 09:28:01 AM: Solver (including time spent in interface) took 1.040e-02 seconds\n"
     ]
    }
   ],
   "source": [
    "w = cp.Variable(558)\n",
    "obj = cp.Minimize(cp.norm(constant_array @ MQ_M14_array - cp.matmul(MQ_T14_array, w.T), 2))\n",
    "constraints = [w <= 0.3, cp.sum(w) == 1]\n",
    "problem = cp.Problem(obj, constraints)\n",
    "result = problem.solve(verbose=True,solver=cp.SCS) ####scs is a first-order solver that uses an iterative splitting technique when just solving the whole thing is too expensive\n",
    "#print(\"Optimal value:\", result)\n",
    "#print(\"Optimal weights:\", w.value.round(decimals=2))\n",
    "#print(\"Optimal value\", problem.solve)\n",
    "#print(w.value.round(decimals=2))\n",
    "#print(\"Optimal value\", problem.solve(verbose=True))\n"
   ]
  },
  {
   "cell_type": "code",
   "execution_count": 25,
   "id": "571ae38e",
   "metadata": {},
   "outputs": [],
   "source": [
    "###FIFTH COLUMN\n",
    "target1.dropna(subset=['q_BB'],inplace=True)\n",
    "model.dropna(subset=['q_BB'],inplace=True)"
   ]
  },
  {
   "cell_type": "code",
   "execution_count": 24,
   "id": "7623e980",
   "metadata": {},
   "outputs": [],
   "source": [
    "###pandas into numpy array\n",
    "constant_array = model['constant'].values\n",
    "d_t_array = target1['d_t'].values\n",
    "MQ_M15_array=model['q_BB'].values\n",
    "MQ_T15_array=target1['q_BB'].values"
   ]
  },
  {
   "cell_type": "code",
   "execution_count": 26,
   "id": "6a45577d",
   "metadata": {},
   "outputs": [
    {
     "data": {
      "text/plain": [
       "(558,)"
      ]
     },
     "execution_count": 26,
     "metadata": {},
     "output_type": "execute_result"
    }
   ],
   "source": [
    "#tranposed array\n",
    "transposed_dt = np.transpose(d_t_array)\n",
    "transposed_dt.shape"
   ]
  },
  {
   "cell_type": "code",
   "execution_count": 28,
   "id": "e5e3bdf1",
   "metadata": {},
   "outputs": [
    {
     "name": "stdout",
     "output_type": "stream",
     "text": [
      "===============================================================================\n",
      "                                     CVXPY                                     \n",
      "                                     v1.3.0                                    \n",
      "===============================================================================\n",
      "(CVXPY) Apr 20 09:29:44 AM: Your problem has 558 variables, 2 constraints, and 0 parameters.\n",
      "(CVXPY) Apr 20 09:29:44 AM: It is compliant with the following grammars: DCP, DQCP\n",
      "(CVXPY) Apr 20 09:29:44 AM: (If you need to solve this problem multiple times, but with different data, consider using parameters.)\n",
      "(CVXPY) Apr 20 09:29:44 AM: CVXPY will first compile your problem; then, it will invoke a numerical solver to obtain a solution.\n",
      "-------------------------------------------------------------------------------\n",
      "                                  Compilation                                  \n",
      "-------------------------------------------------------------------------------\n",
      "(CVXPY) Apr 20 09:29:44 AM: Compiling problem (target solver=SCS).\n",
      "(CVXPY) Apr 20 09:29:44 AM: Reduction chain: Dcp2Cone -> CvxAttr2Constr -> ConeMatrixStuffing -> SCS\n",
      "(CVXPY) Apr 20 09:29:44 AM: Applying reduction Dcp2Cone\n",
      "(CVXPY) Apr 20 09:29:44 AM: Applying reduction CvxAttr2Constr\n",
      "(CVXPY) Apr 20 09:29:44 AM: Applying reduction ConeMatrixStuffing\n",
      "(CVXPY) Apr 20 09:29:44 AM: Applying reduction SCS\n",
      "(CVXPY) Apr 20 09:29:44 AM: Finished problem compilation (took 2.260e-02 seconds).\n",
      "-------------------------------------------------------------------------------\n",
      "                                Numerical solver                               \n",
      "-------------------------------------------------------------------------------\n",
      "(CVXPY) Apr 20 09:29:44 AM: Invoking solver SCS  to obtain a solution.\n",
      "------------------------------------------------------------------\n",
      "\t       SCS v3.2.0 - Splitting Conic Solver\n",
      "\t(c) Brendan O'Donoghue, Stanford University, 2012\n",
      "------------------------------------------------------------------\n",
      "problem:  variables n: 559, constraints m: 561\n",
      "cones: \t  z: primal zero / dual free vars: 1\n",
      "\t  l: linear vars: 560\n",
      "settings: eps_abs: 1.0e-05, eps_rel: 1.0e-05, eps_infeas: 1.0e-07\n",
      "\t  alpha: 1.50, scale: 1.00e-01, adaptive_scale: 1\n",
      "\t  max_iters: 100000, normalize: 1, rho_x: 1.00e-06\n",
      "\t  acceleration_lookback: 10, acceleration_interval: 10\n",
      "lin-sys:  sparse-direct\n",
      "\t  nnz(A): 1136, nnz(P): 0\n",
      "------------------------------------------------------------------\n",
      " iter | pri res | dua res |   gap   |   obj   |  scale  | time (s)\n",
      "------------------------------------------------------------------\n",
      "     0| 4.61e+01  1.00e+00  3.89e+01 -1.22e+01  1.00e-01  1.52e-03 \n",
      "   125| 6.75e-08  2.53e-09  4.22e-07  1.81e+01  1.00e-01  4.99e-03 \n",
      "------------------------------------------------------------------\n",
      "status:  solved\n",
      "timings: total: 7.60e-03s = setup: 2.60e-03s + solve: 5.00e-03s\n",
      "\t lin-sys: 2.11e-03s, cones: 1.65e-04s, accel: 3.38e-04s\n",
      "------------------------------------------------------------------\n",
      "objective = 18.089466\n",
      "------------------------------------------------------------------\n",
      "-------------------------------------------------------------------------------\n",
      "                                    Summary                                    \n",
      "-------------------------------------------------------------------------------\n",
      "(CVXPY) Apr 20 09:29:44 AM: Problem status: optimal\n",
      "(CVXPY) Apr 20 09:29:44 AM: Optimal value: 1.809e+01\n",
      "(CVXPY) Apr 20 09:29:44 AM: Compilation took 2.260e-02 seconds\n",
      "(CVXPY) Apr 20 09:29:44 AM: Solver (including time spent in interface) took 8.900e-03 seconds\n"
     ]
    }
   ],
   "source": [
    "w = cp.Variable(558)\n",
    "obj = cp.Minimize(cp.norm(constant_array @ MQ_M15_array - cp.matmul(MQ_T15_array, w.T), 2))\n",
    "constraints = [w <= 0.3, cp.sum(w) == 1]\n",
    "problem = cp.Problem(obj, constraints)\n",
    "result = problem.solve(verbose=True,solver=cp.SCS) ####scs is a first-order solver that uses an iterative splitting technique when just solving the whole thing is too expensive\n",
    "#print(\"Optimal value:\", result)\n",
    "#print(\"Optimal weights:\", w.value.round(decimals=2))\n",
    "#print(\"Optimal value\", problem.solve)\n",
    "#print(w.value.round(decimals=2))\n",
    "#print(\"Optimal value\", problem.solve(verbose=True))\n"
   ]
  },
  {
   "cell_type": "code",
   "execution_count": 29,
   "id": "171ea54d",
   "metadata": {},
   "outputs": [
    {
     "name": "stdout",
     "output_type": "stream",
     "text": [
      "var261\n"
     ]
    }
   ],
   "source": [
    ")"
   ]
  },
  {
   "cell_type": "code",
   "execution_count": null,
   "id": "91b357be",
   "metadata": {},
   "outputs": [],
   "source": []
  }
 ],
 "metadata": {
  "kernelspec": {
   "display_name": "Python 3 (ipykernel)",
   "language": "python",
   "name": "python3"
  },
  "language_info": {
   "codemirror_mode": {
    "name": "ipython",
    "version": 3
   },
   "file_extension": ".py",
   "mimetype": "text/x-python",
   "name": "python",
   "nbconvert_exporter": "python",
   "pygments_lexer": "ipython3",
   "version": "3.10.9"
  }
 },
 "nbformat": 4,
 "nbformat_minor": 5
}
